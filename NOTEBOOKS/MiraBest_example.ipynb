{
 "cells": [
  {
   "cell_type": "code",
   "execution_count": 1,
   "id": "27ef3eb9",
   "metadata": {},
   "outputs": [],
   "source": [
    "import torch\n",
    "\n",
    "import torchvision.transforms as transforms\n",
    "import pylab as pl\n",
    "\n",
    "from MiraBest import MiraBest_full, MBFRConfident, MBFRUncertain, MBHybrid"
   ]
  },
  {
   "cell_type": "markdown",
   "id": "a52c1a50",
   "metadata": {},
   "source": [
    "---\n",
    "Define the data transforms for Pytorch:"
   ]
  },
  {
   "cell_type": "code",
   "execution_count": 2,
   "id": "187aba3b",
   "metadata": {},
   "outputs": [],
   "source": [
    "crop     = transforms.CenterCrop(150)\n",
    "pad      = transforms.Pad((0, 0, 1, 1), fill=0)\n",
    "totensor = transforms.ToTensor()\n",
    "normalise= transforms.Normalize((0.0031,), (0.0352,))\n",
    "\n",
    "transform = transforms.Compose([\n",
    "    crop,\n",
    "    pad,\n",
    "    totensor,\n",
    "    normalise,\n",
    "])"
   ]
  },
  {
   "cell_type": "markdown",
   "id": "8f58c45c",
   "metadata": {},
   "source": [
    "---\n",
    "Call the dataset class to download the data (if needed) into a user specified directory:"
   ]
  },
  {
   "cell_type": "code",
   "execution_count": 3,
   "id": "3a301383",
   "metadata": {},
   "outputs": [
    {
     "name": "stdout",
     "output_type": "stream",
     "text": [
      "Files already downloaded and verified\n"
     ]
    }
   ],
   "source": [
    "datadir = 'mirabest'\n",
    "mb_full = MBFRConfident(datadir, train=True, download=True, transform=transform)"
   ]
  },
  {
   "cell_type": "markdown",
   "id": "f7421b24",
   "metadata": {},
   "source": [
    "---\n",
    "Create a Pytorch dataloader for the data:"
   ]
  },
  {
   "cell_type": "code",
   "execution_count": 4,
   "id": "56c0733d",
   "metadata": {},
   "outputs": [],
   "source": [
    "batch_size = 5\n",
    "data_loader = torch.utils.data.DataLoader(mb_full, batch_size=batch_size, shuffle=True)"
   ]
  },
  {
   "cell_type": "markdown",
   "id": "4b215a10",
   "metadata": {},
   "source": [
    "---\n",
    "Load a batch of data:"
   ]
  },
  {
   "cell_type": "code",
   "execution_count": 8,
   "id": "695723ae",
   "metadata": {},
   "outputs": [],
   "source": [
    "samples = iter(data_loader).next()"
   ]
  },
  {
   "cell_type": "markdown",
   "id": "5fc92772",
   "metadata": {},
   "source": [
    "---\n",
    "Visualise a batch of data:"
   ]
  },
  {
   "cell_type": "code",
   "execution_count": 9,
   "id": "910c4d69",
   "metadata": {},
   "outputs": [],
   "source": [
    "label_map = {'0': 'FRI',\n",
    "             '1': 'FRII'\n",
    "}"
   ]
  },
  {
   "cell_type": "code",
   "execution_count": 10,
   "id": "815fba98",
   "metadata": {},
   "outputs": [
    {
     "data": {
      "image/png": "[encoded data removed]",
      "text/plain": [
       "<Figure size 1440x1440 with 5 Axes>"
      ]
     },
     "metadata": {
      "needs_background": "light"
     },
     "output_type": "display_data"
    }
   ],
   "source": [
    "figure = pl.figure(figsize=(20, 20))\n",
    "for i in range(len(samples[0])):\n",
    "    img = samples[0][i].squeeze().numpy()\n",
    "    label = samples[1][i].numpy()\n",
    "    figure.add_subplot(1, 5, i+1)\n",
    "    pl.title(label_map[str(label)])\n",
    "    pl.axis(\"off\")\n",
    "    pl.imshow(img.squeeze(), cmap=\"magma\")"
   ]
  },
  {
   "cell_type": "markdown",
   "id": "87410bc8",
   "metadata": {},
   "source": [
    "---\n",
    "END"
   ]
  },
  {
   "cell_type": "code",
   "execution_count": null,
   "id": "e098a94c",
   "metadata": {},
   "outputs": [],
   "source": []
  },
  {
   "cell_type": "code",
   "execution_count": null,
   "id": "3b4750de",
   "metadata": {},
   "outputs": [],
   "source": []
  },
  {
   "cell_type": "code",
   "execution_count": null,
   "id": "2c010a97",
   "metadata": {},
   "outputs": [],
   "source": []
  }
 ],
 "metadata": {
  "kernelspec": {
   "display_name": "Python 3",
   "language": "python",
   "name": "python3"
  },
  "language_info": {
   "codemirror_mode": {
    "name": "ipython",
    "version": 3
   },
   "file_extension": ".py",
   "mimetype": "text/x-python",
   "name": "python",
   "nbconvert_exporter": "python",
   "pygments_lexer": "ipython3",
   "version": "3.8.6"
  }
 },
 "nbformat": 4,
 "nbformat_minor": 5
}
